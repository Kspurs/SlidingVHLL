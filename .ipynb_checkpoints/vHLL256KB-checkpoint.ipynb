{
 "cells": [
  {
   "cell_type": "code",
   "execution_count": null,
   "metadata": {
    "ExecuteTime": {
     "end_time": "2022-01-04T08:16:46.110541Z",
     "start_time": "2022-01-04T08:16:45.852180Z"
    }
   },
   "outputs": [],
   "source": [
    "import platform\n",
    "import os\n",
    "import math\n",
    "import pickle\n",
    "import numpy as np\n",
    "import matplotlib.pyplot as plt\n",
    "import mmh3\n",
    "import random\n",
    "\n",
    "from BasicFunc import gen_rand_seed, gen_hash, SpreadCollection, actual_relative_error\n",
    "from BasicFunc import is_valid_ipv4_address, ip_addr_to_int"
   ]
  },
  {
   "cell_type": "code",
   "execution_count": null,
   "metadata": {
    "ExecuteTime": {
     "end_time": "2022-01-04T08:16:54.990398Z",
     "start_time": "2022-01-04T08:16:54.936882Z"
    }
   },
   "outputs": [],
   "source": [
    "class vhll():\n",
    "\n",
    "    def __init__(self, num_phy_registers, num_registers_for_vhll):\n",
    "        self.num_phy_registers = num_phy_registers\n",
    "        self.num_registers_for_vhll = num_registers_for_vhll\n",
    "\n",
    "        distinct_seeds = set()\n",
    "        while len(distinct_seeds) < num_registers_for_vhll:\n",
    "            seed_t = gen_rand_seed()\n",
    "            if seed_t not in distinct_seeds:\n",
    "                distinct_seeds.add(seed_t)\n",
    "        self.seeds = list(distinct_seeds)\n",
    "        self.range_for_seed_index = math.floor(math.log(self.num_registers_for_vhll, 2))\n",
    "        self.hash_seed = gen_rand_seed()\n",
    "\n",
    "        self.phy_registers = [0 for i in range(num_phy_registers)]\n",
    "        self.flows = set()\n",
    "\n",
    "        self.spread_of_all_flows = 0\n",
    "        self.alpha = 0\n",
    "        if self.num_registers_for_vhll == 16:\n",
    "            self.alpha = 0.673\n",
    "        elif self.num_registers_for_vhll == 32:\n",
    "            self.alpha = 0.697\n",
    "        elif self.num_registers_for_vhll == 64:\n",
    "            self.alpha = 0.709\n",
    "        else:\n",
    "            self.alpha = (0.7213 / (1 + (1.079 / self.num_registers_for_vhll)))\n",
    "\n",
    "    def set(self, flow_id, ele_id):\n",
    "        self.flows.add(flow_id)\n",
    "\n",
    "        ele_hash_value = gen_hash(ele_id, self.hash_seed)\n",
    "        p_part = ele_hash_value >> (32 - self.range_for_seed_index)\n",
    "        q_part = ele_hash_value - (p_part << (32 - self.range_for_seed_index))\n",
    "\n",
    "        leftmost_index = 0\n",
    "        while q_part:\n",
    "            leftmost_index += 1\n",
    "            q_part >>= 1\n",
    "        leftmost_index = 32 - self.range_for_seed_index - leftmost_index + 1\n",
    "\n",
    "        index_for_register = gen_hash(flow_id ^ self.seeds[p_part], self.hash_seed) % self.num_phy_registers\n",
    "        self.phy_registers[index_for_register] = max(self.phy_registers[index_for_register], leftmost_index)\n",
    "\n",
    "    def update_para(self):\n",
    "        fraction_zeros = 0\n",
    "        sum_registers = 0\n",
    "        for register in self.phy_registers:\n",
    "            sum_registers += 2 ** (-register)\n",
    "            if register == 0:\n",
    "                fraction_zeros += 1\n",
    "        fraction_zeros = fraction_zeros / self.num_phy_registers\n",
    "        spread_of_all_flows = (0.7213 / (1 + (1.079 / self.num_phy_registers))) * (\n",
    "                    self.num_phy_registers ** 2) / sum_registers\n",
    "        if spread_of_all_flows < 2.5 * self.num_phy_registers:\n",
    "            if fraction_zeros != 0:\n",
    "                self.spread_of_all_flows = - self.num_phy_registers * math.log(fraction_zeros)\n",
    "        elif spread_of_all_flows > 2 ** 32 / 30:\n",
    "            self.spread_of_all_flows = - 2 ** 32 * math.log(1 - spread_of_all_flows / 2 ** 32)\n",
    "\n",
    "    def estimate(self, flow_id):\n",
    "        fraction_zeros_for_vhll = 0\n",
    "        sum_registers_for_vhll = 0\n",
    "        for seed in self.seeds:\n",
    "            index_for_vhll = gen_hash(flow_id ^ seed, self.hash_seed) % self.num_phy_registers\n",
    "            sum_registers_for_vhll += 2 ** (- self.phy_registers[index_for_vhll])\n",
    "            if self.phy_registers[index_for_vhll] == 0:\n",
    "                fraction_zeros_for_vhll += 1\n",
    "        fraction_zeros_for_vhll = fraction_zeros_for_vhll / self.num_registers_for_vhll\n",
    "        spread_of_the_flow = self.alpha * (self.num_registers_for_vhll ** 2) / sum_registers_for_vhll\n",
    "\n",
    "        if spread_of_the_flow < 2.5 * self.num_registers_for_vhll:\n",
    "            if fraction_zeros_for_vhll != 0:\n",
    "                spread_of_the_flow = - self.num_registers_for_vhll * math.log(fraction_zeros_for_vhll) - \\\n",
    "                                 (self.num_registers_for_vhll * self.spread_of_all_flows / self.num_phy_registers)\n",
    "            else:\n",
    "                spread_of_the_flow = spread_of_the_flow - \\\n",
    "                                     (self.num_registers_for_vhll * self.spread_of_all_flows / self.num_phy_registers)\n",
    "        elif spread_of_the_flow > 2 ** 32 / 30:\n",
    "            spread_of_the_flow = - 2 ** 32 * math.log(1 - spread_of_the_flow / 2 ** 32) - \\\n",
    "                                 (self.num_registers_for_vhll * self.spread_of_all_flows / self.num_phy_registers)\n",
    "        else:\n",
    "            spread_of_the_flow = spread_of_the_flow - \\\n",
    "                                 (self.num_registers_for_vhll * self.spread_of_all_flows / self.num_phy_registers)\n",
    "\n",
    "        return spread_of_the_flow\n",
    "\n",
    "    def get_all_spread(self):\n",
    "        self.update_para()\n",
    "        all_spread = {}\n",
    "        for flow_id in self.flows:\n",
    "            all_spread[flow_id] = self.estimate(flow_id)\n",
    "            # print(all_spread[flow_id])\n",
    "        return all_spread"
   ]
  },
  {
   "cell_type": "code",
   "execution_count": null,
   "metadata": {
    "ExecuteTime": {
     "end_time": "2022-01-04T08:17:02.097624Z",
     "start_time": "2022-01-04T08:16:57.906232Z"
    }
   },
   "outputs": [],
   "source": [
    "fo = open(\"04.txt\", \"r\")\n",
    "flows = fo.readlines()\n",
    "fo.close()"
   ]
  },
  {
   "cell_type": "code",
   "execution_count": null,
   "metadata": {
    "ExecuteTime": {
     "end_time": "2022-01-04T08:17:07.493255Z",
     "start_time": "2022-01-04T08:17:07.464684Z"
    }
   },
   "outputs": [],
   "source": [
    "num_registers_for_vhll = 64\n",
    "num_phy_registers = int(0.25 * 2 ** 23 / 5)\n",
    "vhll_instance = vhll(num_phy_registers, num_registers_for_vhll)"
   ]
  },
  {
   "cell_type": "code",
   "execution_count": null,
   "metadata": {
    "ExecuteTime": {
     "end_time": "2022-01-04T08:17:08.979633Z",
     "start_time": "2022-01-04T08:17:08.974098Z"
    }
   },
   "outputs": [],
   "source": [
    "num_bits_for_register = math.ceil(math.log(32 - math.log(num_registers_for_vhll, 2), 2))"
   ]
  },
  {
   "cell_type": "code",
   "execution_count": null,
   "metadata": {
    "ExecuteTime": {
     "end_time": "2022-01-04T08:19:28.051885Z",
     "start_time": "2022-01-04T08:17:10.231839Z"
    }
   },
   "outputs": [],
   "source": [
    "sss1 = 12\n",
    "sss2 = 21\n",
    "\n",
    "for item in flows:\n",
    "    e, f = item.strip().split()\n",
    "    f = mmh3.hash(f, sss1)\n",
    "    e = mmh3.hash(e, sss2)\n",
    "    vhll_instance.set(f, e)"
   ]
  },
  {
   "cell_type": "code",
   "execution_count": null,
   "metadata": {
    "ExecuteTime": {
     "end_time": "2022-01-04T08:19:37.431406Z",
     "start_time": "2022-01-04T08:19:28.053699Z"
    }
   },
   "outputs": [],
   "source": [
    "estimation = vhll_instance.get_all_spread()"
   ]
  },
  {
   "cell_type": "code",
   "execution_count": null,
   "outputs": [],
   "source": [
    "x1 = range(0, 5)\n",
    "y1 = x1\n",
    "\n",
    "plt.plot(np.log10(x), np.log10(y), \"x\")\n",
    "plt.plot(x1, y1)\n",
    "plt.show()"
   ],
   "metadata": {
    "collapsed": false
   }
  },
  {
   "cell_type": "code",
   "execution_count": null,
   "outputs": [],
   "source": [
    "import collections\n",
    "\n",
    "flows_info = collections.defaultdict(list)\n",
    "\n",
    "for item in flows:\n",
    "    e, f = item.strip().split()\n",
    "    flows_info[f].append(e)"
   ],
   "metadata": {
    "collapsed": false
   }
  },
  {
   "cell_type": "code",
   "execution_count": null,
   "outputs": [],
   "source": [
    "spread_info = dict()\n",
    "\n",
    "for f in flows_info.keys():\n",
    "    spread_info[f] = len(set(flows_info[f]))"
   ],
   "metadata": {
    "collapsed": false
   }
  },
  {
   "cell_type": "code",
   "execution_count": null,
   "outputs": [],
   "source": [
    "x = list()\n",
    "y = list()\n",
    "\n",
    "for f in flows_info.keys():\n",
    "    x.append(spread_info[f])\n",
    "    y.append(estimation[mmh3.hash(f, sss1)])\n",
    "\n",
    "x = np.array(x)\n",
    "y = np.maximum(1, np.array(y))"
   ],
   "metadata": {
    "collapsed": false
   }
  },
  {
   "cell_type": "code",
   "execution_count": null,
   "metadata": {
    "ExecuteTime": {
     "end_time": "2022-01-04T08:29:09.131714Z",
     "start_time": "2022-01-04T08:29:08.475502Z"
    }
   },
   "outputs": [],
   "source": [
    "ARE_lst = [[] for i in range(4)]\n",
    "\n",
    "for i in range(len(x)):\n",
    "    ARE_lst[int(np.log10(x[i]))].append(abs(x[i]-y[i])/x[i])\n",
    "    \n",
    "print([np.mean(lst) for lst in ARE_lst])"
   ]
  },
  {
   "cell_type": "code",
   "execution_count": null,
   "metadata": {
    "ExecuteTime": {
     "end_time": "2022-01-04T08:32:34.069166Z",
     "start_time": "2022-01-04T08:32:34.059999Z"
    }
   },
   "outputs": [],
   "source": [
    "np.mean(abs((x-y)/x))"
   ]
  },
  {
   "cell_type": "code",
   "execution_count": null,
   "metadata": {
    "ExecuteTime": {
     "end_time": "2022-01-04T08:32:47.932098Z",
     "start_time": "2022-01-04T08:32:47.924039Z"
    }
   },
   "outputs": [],
   "source": [
    "np.mean(abs(x-y))"
   ]
  },
  {
   "cell_type": "code",
   "execution_count": null,
   "metadata": {
    "ExecuteTime": {
     "end_time": "2022-01-04T08:33:09.665892Z",
     "start_time": "2022-01-04T08:33:09.659441Z"
    }
   },
   "outputs": [],
   "source": [
    "len(x)"
   ]
  },
  {
   "cell_type": "code",
   "execution_count": null,
   "metadata": {
    "ExecuteTime": {
     "end_time": "2022-01-04T08:34:38.482201Z",
     "start_time": "2022-01-04T08:34:38.234716Z"
    }
   },
   "outputs": [],
   "source": [
    "data = list()\n",
    "\n",
    "for i in range(len(x)):\n",
    "    data.append(str(x[i]) + \" \" + str(y[i]) + \"\\n\")\n",
    "    \n",
    "data = list(set(data))\n",
    "print(len(data))"
   ]
  },
  {
   "cell_type": "code",
   "execution_count": null,
   "metadata": {
    "ExecuteTime": {
     "end_time": "2022-01-04T08:35:10.099322Z",
     "start_time": "2022-01-04T08:35:10.092377Z"
    }
   },
   "outputs": [],
   "source": [
    "fo = open(\"vHLL256KB.data\", \"w\")\n",
    "fo.writelines(data)\n",
    "fo.close()"
   ]
  },
  {
   "cell_type": "code",
   "execution_count": null,
   "metadata": {},
   "outputs": [],
   "source": []
  }
 ],
 "metadata": {
  "kernelspec": {
   "display_name": "Python 3 (ipykernel)",
   "language": "python",
   "name": "python3"
  },
  "language_info": {
   "codemirror_mode": {
    "name": "ipython",
    "version": 3
   },
   "file_extension": ".py",
   "mimetype": "text/x-python",
   "name": "python",
   "nbconvert_exporter": "python",
   "pygments_lexer": "ipython3",
   "version": "3.9.12"
  },
  "latex_envs": {
   "LaTeX_envs_menu_present": true,
   "autoclose": false,
   "autocomplete": true,
   "bibliofile": "biblio.bib",
   "cite_by": "apalike",
   "current_citInitial": 1,
   "eqLabelWithNumbers": true,
   "eqNumInitial": 1,
   "hotkeys": {
    "equation": "Ctrl-E",
    "itemize": "Ctrl-I"
   },
   "labels_anchors": false,
   "latex_user_defs": false,
   "report_style_numbering": false,
   "user_envs_cfg": false
  },
  "toc": {
   "base_numbering": 1,
   "nav_menu": {},
   "number_sections": true,
   "sideBar": true,
   "skip_h1_title": false,
   "title_cell": "Table of Contents",
   "title_sidebar": "Contents",
   "toc_cell": false,
   "toc_position": {},
   "toc_section_display": true,
   "toc_window_display": false
  }
 },
 "nbformat": 4,
 "nbformat_minor": 2
}
